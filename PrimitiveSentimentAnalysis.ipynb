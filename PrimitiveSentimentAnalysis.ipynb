{
 "cells": [
  {
   "cell_type": "code",
   "execution_count": 21,
   "metadata": {},
   "outputs": [],
   "source": [
    "# Using a primitive pre trained model for sentiment analysis\n",
    "!pip install -q transformers"
   ]
  },
  {
   "cell_type": "code",
   "execution_count": 22,
   "metadata": {},
   "outputs": [],
   "source": [
    "# Importing necessary libraries\n",
    "import tweepy\n",
    "import pandas as pd\n",
    "from datetime import datetime\n",
    "from transformers import pipeline"
   ]
  },
  {
   "cell_type": "code",
   "execution_count": 23,
   "metadata": {},
   "outputs": [],
   "source": [
    "# Authorization and Connection to Twitter API using Tweepy\n",
    "BEARER_TOKEN = 'AAAAAAAAAAAAAAAAAAAAAHYabQEAAAAAvw0hWydZNRSnU9G%2BHFL2VYwH9wk%3De1QXuj2GAlRofwZp6ee0lSpBGsW6zEel3wCL6VWM3Go8DS3KSv'\n",
    "client = tweepy.Client(bearer_token = BEARER_TOKEN)"
   ]
  },
  {
   "cell_type": "code",
   "execution_count": 36,
   "metadata": {},
   "outputs": [
    {
     "data": {
      "text/plain": [
       "['This will reduce the reliance on a single national power grid as we have it today and causing total collapse every time someone decide to flip the switch!',\n",
       " 'RT @LucyFaulkes: Went to London to show solidarity for Extinction Rebellion because I’m worried about the climate crisis and I believe we n…',\n",
       " \"$TTE trades @ just 4.8 times proj '22 earnings &amp; $SHEL @ 6.4 times, compared to sector avg of 8.4. $SHEL has about 25% of world’s LNG mkt &amp; will benefit from higher O&amp;G prices, as well as Europe’s efforts to reduce reliance on Russian fossil fuels https://t.co/MfE9pWA24P\",\n",
       " 'Biden\\'s tax tsunami - what\\'s hiding behind his \"rhetoric\" ... it is most assuredly NOT safe to \"get back into the water\"\\n\\nhttps://t.co/GhmX2mniZm',\n",
       " 'RT @joaohmateus: \"Germany received far more and clearer warning about its feckless reliance on Russian gas than Greece ever did about its p…',\n",
       " 'RT @khan_zafarul: 1/2 Top Hindu-owned cos. sell Halal-certified products including Adani Wilmar, Reliance Industries, Tata Consumer Product…',\n",
       " \"Reliance Capital's Lenders And Admin Disagree About Resolution\\xa0Plan https://t.co/0U9tgmut3F\",\n",
       " '@autchatmod A2. There’s been an increased reliance on phone calls which isn’t so great as a Deaf autistic. #AutChat',\n",
       " 'This would reduce reliance on rubber trees grown in tropical countries https://t.co/AqocyIT2TT',\n",
       " 'RT @khan_zafarul: 1/2 Top Hindu-owned cos. sell Halal-certified products including Adani Wilmar, Reliance Industries, Tata Consumer Product…',\n",
       " 'Greetings from BITS!',\n",
       " 'Its okay']"
      ]
     },
     "execution_count": 36,
     "metadata": {},
     "output_type": "execute_result"
    }
   ],
   "source": [
    "# Retrieving tweet data using Tweepy and adding certain customised tweets for verification\n",
    "tweets = client.search_recent_tweets(query = 'Reliance', max_results = 10, tweet_fields = 'lang')\n",
    "total = pd.DataFrame(tweets.data)\n",
    "data = total['text'].tolist()\n",
    "data.append('Greetings from BITS!')\n",
    "data.append('Its okay')\n",
    "data"
   ]
  },
  {
   "cell_type": "code",
   "execution_count": 37,
   "metadata": {},
   "outputs": [
    {
     "name": "stderr",
     "output_type": "stream",
     "text": [
      "No model was supplied, defaulted to distilbert-base-uncased-finetuned-sst-2-english (https://huggingface.co/distilbert-base-uncased-finetuned-sst-2-english)\n",
      "Some layers from the model checkpoint at distilbert-base-uncased-finetuned-sst-2-english were not used when initializing TFDistilBertForSequenceClassification: ['dropout_19']\n",
      "- This IS expected if you are initializing TFDistilBertForSequenceClassification from the checkpoint of a model trained on another task or with another architecture (e.g. initializing a BertForSequenceClassification model from a BertForPreTraining model).\n",
      "- This IS NOT expected if you are initializing TFDistilBertForSequenceClassification from the checkpoint of a model that you expect to be exactly identical (initializing a BertForSequenceClassification model from a BertForSequenceClassification model).\n",
      "Some layers of TFDistilBertForSequenceClassification were not initialized from the model checkpoint at distilbert-base-uncased-finetuned-sst-2-english and are newly initialized: ['dropout_99']\n",
      "You should probably TRAIN this model on a down-stream task to be able to use it for predictions and inference.\n"
     ]
    },
    {
     "data": {
      "text/plain": [
       "[{'label': 'NEGATIVE', 'score': 0.9996525049209595},\n",
       " {'label': 'NEGATIVE', 'score': 0.9290217161178589},\n",
       " {'label': 'POSITIVE', 'score': 0.9200253486633301},\n",
       " {'label': 'NEGATIVE', 'score': 0.9994472861289978},\n",
       " {'label': 'NEGATIVE', 'score': 0.9931973218917847},\n",
       " {'label': 'POSITIVE', 'score': 0.9974920749664307},\n",
       " {'label': 'NEGATIVE', 'score': 0.9942319989204407},\n",
       " {'label': 'NEGATIVE', 'score': 0.9994035959243774},\n",
       " {'label': 'NEGATIVE', 'score': 0.9697373509407043},\n",
       " {'label': 'POSITIVE', 'score': 0.9974920749664307},\n",
       " {'label': 'POSITIVE', 'score': 0.9990943670272827},\n",
       " {'label': 'POSITIVE', 'score': 0.999775230884552}]"
      ]
     },
     "execution_count": 37,
     "metadata": {},
     "output_type": "execute_result"
    }
   ],
   "source": [
    "# Running the model for the obtained data\n",
    "sentiment_pipeline = pipeline('sentiment-analysis')\n",
    "sentiment_pipeline(data)"
   ]
  },
  {
   "cell_type": "code",
   "execution_count": null,
   "metadata": {},
   "outputs": [],
   "source": []
  }
 ],
 "metadata": {
  "kernelspec": {
   "display_name": "Python 3",
   "language": "python",
   "name": "python3"
  },
  "language_info": {
   "codemirror_mode": {
    "name": "ipython",
    "version": 3
   },
   "file_extension": ".py",
   "mimetype": "text/x-python",
   "name": "python",
   "nbconvert_exporter": "python",
   "pygments_lexer": "ipython3",
   "version": "3.8.5"
  }
 },
 "nbformat": 4,
 "nbformat_minor": 4
}
