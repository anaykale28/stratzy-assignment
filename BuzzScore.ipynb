{
 "cells": [
  {
   "cell_type": "code",
   "execution_count": 2,
   "metadata": {},
   "outputs": [],
   "source": [
    "# Importing essential libraries\n",
    "import tweepy\n",
    "import pandas as pd\n",
    "from datetime import datetime\n",
    "import yfinance as yf \n",
    "import matplotlib.pyplot as plt"
   ]
  },
  {
   "cell_type": "code",
   "execution_count": 3,
   "metadata": {},
   "outputs": [],
   "source": [
    "# Authorization & Connection to Twitter API using Tweepy\n",
    "BEARER_TOKEN = 'AAAAAAAAAAAAAAAAAAAAAHYabQEAAAAAvw0hWydZNRSnU9G%2BHFL2VYwH9wk%3De1QXuj2GAlRofwZp6ee0lSpBGsW6zEel3wCL6VWM3Go8DS3KSv'\n",
    "client = tweepy.Client(bearer_token = BEARER_TOKEN)"
   ]
  },
  {
   "cell_type": "code",
   "execution_count": 4,
   "metadata": {},
   "outputs": [],
   "source": [
    "# Function that returns Tweet Counts and Buzz Score for a list of arguments\n",
    "def tweetCount(queries, lang = 'en'):\n",
    "    for query in queries:\n",
    "        query = query + ' \"lang:' + lang + '\"' + ' \"near:India\"'\n",
    "    tweets = client.get_recent_tweets_count(query = queries[0], \n",
    "                                            granularity = 'minute', \n",
    "                                            start_time = '2022-04-08T03:45:00Z', \n",
    "                                            end_time = '2022-04-09T10:00:00Z')\n",
    "    total = pd.DataFrame(tweets.data)\n",
    "    total.columns = ['End', 'Start', 'Tweet Count']\n",
    "    total.set_index('Start')\n",
    "    for i in range(1, len(queries)):\n",
    "        tweets = client.get_recent_tweets_count(query = queries[i], \n",
    "                                                granularity = 'minute', \n",
    "                                                start_time = '2022-04-08T03:45:00Z', \n",
    "                                                end_time = '2022-04-09T10:00:00Z')\n",
    "        df = pd.DataFrame(tweets.data)\n",
    "        df.columns = ['End', 'Start', 'Tweet Count']\n",
    "        total['Tweet Count'] = total['Tweet Count'] + df['Tweet Count']\n",
    "    total['Start'] = pd.to_datetime(total['Start']).dt.tz_convert('Asia/Kolkata')\n",
    "    total['End'] = pd.to_datetime(total['End']).dt.tz_convert('Asia/Kolkata')\n",
    "    total.set_index('Start', inplace = True)\n",
    "    return total"
   ]
  },
  {
   "cell_type": "code",
   "execution_count": 5,
   "metadata": {
    "scrolled": true
   },
   "outputs": [
    {
     "data": {
      "text/html": [
       "<div>\n",
       "<style scoped>\n",
       "    .dataframe tbody tr th:only-of-type {\n",
       "        vertical-align: middle;\n",
       "    }\n",
       "\n",
       "    .dataframe tbody tr th {\n",
       "        vertical-align: top;\n",
       "    }\n",
       "\n",
       "    .dataframe thead th {\n",
       "        text-align: right;\n",
       "    }\n",
       "</style>\n",
       "<table border=\"1\" class=\"dataframe\">\n",
       "  <thead>\n",
       "    <tr style=\"text-align: right;\">\n",
       "      <th></th>\n",
       "      <th>End</th>\n",
       "      <th>Tweet Count</th>\n",
       "    </tr>\n",
       "    <tr>\n",
       "      <th>Start</th>\n",
       "      <th></th>\n",
       "      <th></th>\n",
       "    </tr>\n",
       "  </thead>\n",
       "  <tbody>\n",
       "    <tr>\n",
       "      <th>2022-04-08 09:15:00+05:30</th>\n",
       "      <td>2022-04-08 09:16:00+05:30</td>\n",
       "      <td>11</td>\n",
       "    </tr>\n",
       "    <tr>\n",
       "      <th>2022-04-08 09:16:00+05:30</th>\n",
       "      <td>2022-04-08 09:17:00+05:30</td>\n",
       "      <td>11</td>\n",
       "    </tr>\n",
       "    <tr>\n",
       "      <th>2022-04-08 09:17:00+05:30</th>\n",
       "      <td>2022-04-08 09:18:00+05:30</td>\n",
       "      <td>6</td>\n",
       "    </tr>\n",
       "    <tr>\n",
       "      <th>2022-04-08 09:18:00+05:30</th>\n",
       "      <td>2022-04-08 09:19:00+05:30</td>\n",
       "      <td>8</td>\n",
       "    </tr>\n",
       "    <tr>\n",
       "      <th>2022-04-08 09:19:00+05:30</th>\n",
       "      <td>2022-04-08 09:20:00+05:30</td>\n",
       "      <td>6</td>\n",
       "    </tr>\n",
       "    <tr>\n",
       "      <th>...</th>\n",
       "      <td>...</td>\n",
       "      <td>...</td>\n",
       "    </tr>\n",
       "    <tr>\n",
       "      <th>2022-04-09 15:25:00+05:30</th>\n",
       "      <td>2022-04-09 15:26:00+05:30</td>\n",
       "      <td>4</td>\n",
       "    </tr>\n",
       "    <tr>\n",
       "      <th>2022-04-09 15:26:00+05:30</th>\n",
       "      <td>2022-04-09 15:27:00+05:30</td>\n",
       "      <td>2</td>\n",
       "    </tr>\n",
       "    <tr>\n",
       "      <th>2022-04-09 15:27:00+05:30</th>\n",
       "      <td>2022-04-09 15:28:00+05:30</td>\n",
       "      <td>6</td>\n",
       "    </tr>\n",
       "    <tr>\n",
       "      <th>2022-04-09 15:28:00+05:30</th>\n",
       "      <td>2022-04-09 15:29:00+05:30</td>\n",
       "      <td>0</td>\n",
       "    </tr>\n",
       "    <tr>\n",
       "      <th>2022-04-09 15:29:00+05:30</th>\n",
       "      <td>2022-04-09 15:30:00+05:30</td>\n",
       "      <td>2</td>\n",
       "    </tr>\n",
       "  </tbody>\n",
       "</table>\n",
       "<p>1815 rows × 2 columns</p>\n",
       "</div>"
      ],
      "text/plain": [
       "                                                End  Tweet Count\n",
       "Start                                                           \n",
       "2022-04-08 09:15:00+05:30 2022-04-08 09:16:00+05:30           11\n",
       "2022-04-08 09:16:00+05:30 2022-04-08 09:17:00+05:30           11\n",
       "2022-04-08 09:17:00+05:30 2022-04-08 09:18:00+05:30            6\n",
       "2022-04-08 09:18:00+05:30 2022-04-08 09:19:00+05:30            8\n",
       "2022-04-08 09:19:00+05:30 2022-04-08 09:20:00+05:30            6\n",
       "...                                             ...          ...\n",
       "2022-04-09 15:25:00+05:30 2022-04-09 15:26:00+05:30            4\n",
       "2022-04-09 15:26:00+05:30 2022-04-09 15:27:00+05:30            2\n",
       "2022-04-09 15:27:00+05:30 2022-04-09 15:28:00+05:30            6\n",
       "2022-04-09 15:28:00+05:30 2022-04-09 15:29:00+05:30            0\n",
       "2022-04-09 15:29:00+05:30 2022-04-09 15:30:00+05:30            2\n",
       "\n",
       "[1815 rows x 2 columns]"
      ]
     },
     "execution_count": 5,
     "metadata": {},
     "output_type": "execute_result"
    }
   ],
   "source": [
    "# Individual Counts and Buzz Score for HDFC related tweets\n",
    "hdfc = tweetCount(['HDFC', 'HDFC Life', 'HDFC Bank'])\n",
    "hdfc"
   ]
  },
  {
   "cell_type": "code",
   "execution_count": 6,
   "metadata": {},
   "outputs": [
    {
     "data": {
      "text/html": [
       "<div>\n",
       "<style scoped>\n",
       "    .dataframe tbody tr th:only-of-type {\n",
       "        vertical-align: middle;\n",
       "    }\n",
       "\n",
       "    .dataframe tbody tr th {\n",
       "        vertical-align: top;\n",
       "    }\n",
       "\n",
       "    .dataframe thead th {\n",
       "        text-align: right;\n",
       "    }\n",
       "</style>\n",
       "<table border=\"1\" class=\"dataframe\">\n",
       "  <thead>\n",
       "    <tr style=\"text-align: right;\">\n",
       "      <th></th>\n",
       "      <th>End</th>\n",
       "      <th>Tweet Count</th>\n",
       "    </tr>\n",
       "    <tr>\n",
       "      <th>Start</th>\n",
       "      <th></th>\n",
       "      <th></th>\n",
       "    </tr>\n",
       "  </thead>\n",
       "  <tbody>\n",
       "    <tr>\n",
       "      <th>2022-04-08 09:15:00+05:30</th>\n",
       "      <td>2022-04-08 09:16:00+05:30</td>\n",
       "      <td>6</td>\n",
       "    </tr>\n",
       "    <tr>\n",
       "      <th>2022-04-08 09:16:00+05:30</th>\n",
       "      <td>2022-04-08 09:17:00+05:30</td>\n",
       "      <td>6</td>\n",
       "    </tr>\n",
       "    <tr>\n",
       "      <th>2022-04-08 09:17:00+05:30</th>\n",
       "      <td>2022-04-08 09:18:00+05:30</td>\n",
       "      <td>7</td>\n",
       "    </tr>\n",
       "    <tr>\n",
       "      <th>2022-04-08 09:18:00+05:30</th>\n",
       "      <td>2022-04-08 09:19:00+05:30</td>\n",
       "      <td>7</td>\n",
       "    </tr>\n",
       "    <tr>\n",
       "      <th>2022-04-08 09:19:00+05:30</th>\n",
       "      <td>2022-04-08 09:20:00+05:30</td>\n",
       "      <td>9</td>\n",
       "    </tr>\n",
       "    <tr>\n",
       "      <th>...</th>\n",
       "      <td>...</td>\n",
       "      <td>...</td>\n",
       "    </tr>\n",
       "    <tr>\n",
       "      <th>2022-04-09 15:25:00+05:30</th>\n",
       "      <td>2022-04-09 15:26:00+05:30</td>\n",
       "      <td>6</td>\n",
       "    </tr>\n",
       "    <tr>\n",
       "      <th>2022-04-09 15:26:00+05:30</th>\n",
       "      <td>2022-04-09 15:27:00+05:30</td>\n",
       "      <td>4</td>\n",
       "    </tr>\n",
       "    <tr>\n",
       "      <th>2022-04-09 15:27:00+05:30</th>\n",
       "      <td>2022-04-09 15:28:00+05:30</td>\n",
       "      <td>10</td>\n",
       "    </tr>\n",
       "    <tr>\n",
       "      <th>2022-04-09 15:28:00+05:30</th>\n",
       "      <td>2022-04-09 15:29:00+05:30</td>\n",
       "      <td>3</td>\n",
       "    </tr>\n",
       "    <tr>\n",
       "      <th>2022-04-09 15:29:00+05:30</th>\n",
       "      <td>2022-04-09 15:30:00+05:30</td>\n",
       "      <td>0</td>\n",
       "    </tr>\n",
       "  </tbody>\n",
       "</table>\n",
       "<p>1815 rows × 2 columns</p>\n",
       "</div>"
      ],
      "text/plain": [
       "                                                End  Tweet Count\n",
       "Start                                                           \n",
       "2022-04-08 09:15:00+05:30 2022-04-08 09:16:00+05:30            6\n",
       "2022-04-08 09:16:00+05:30 2022-04-08 09:17:00+05:30            6\n",
       "2022-04-08 09:17:00+05:30 2022-04-08 09:18:00+05:30            7\n",
       "2022-04-08 09:18:00+05:30 2022-04-08 09:19:00+05:30            7\n",
       "2022-04-08 09:19:00+05:30 2022-04-08 09:20:00+05:30            9\n",
       "...                                             ...          ...\n",
       "2022-04-09 15:25:00+05:30 2022-04-09 15:26:00+05:30            6\n",
       "2022-04-09 15:26:00+05:30 2022-04-09 15:27:00+05:30            4\n",
       "2022-04-09 15:27:00+05:30 2022-04-09 15:28:00+05:30           10\n",
       "2022-04-09 15:28:00+05:30 2022-04-09 15:29:00+05:30            3\n",
       "2022-04-09 15:29:00+05:30 2022-04-09 15:30:00+05:30            0\n",
       "\n",
       "[1815 rows x 2 columns]"
      ]
     },
     "execution_count": 6,
     "metadata": {},
     "output_type": "execute_result"
    }
   ],
   "source": [
    "# Everything relevant to Reliance stock\n",
    "reliance = tweetCount(['Reliance', 'Ambani', 'Jio'])\n",
    "reliance"
   ]
  },
  {
   "cell_type": "code",
   "execution_count": 7,
   "metadata": {},
   "outputs": [
    {
     "data": {
      "text/html": [
       "<div>\n",
       "<style scoped>\n",
       "    .dataframe tbody tr th:only-of-type {\n",
       "        vertical-align: middle;\n",
       "    }\n",
       "\n",
       "    .dataframe tbody tr th {\n",
       "        vertical-align: top;\n",
       "    }\n",
       "\n",
       "    .dataframe thead th {\n",
       "        text-align: right;\n",
       "    }\n",
       "</style>\n",
       "<table border=\"1\" class=\"dataframe\">\n",
       "  <thead>\n",
       "    <tr style=\"text-align: right;\">\n",
       "      <th></th>\n",
       "      <th>End</th>\n",
       "      <th>Tweet Count</th>\n",
       "    </tr>\n",
       "    <tr>\n",
       "      <th>Start</th>\n",
       "      <th></th>\n",
       "      <th></th>\n",
       "    </tr>\n",
       "  </thead>\n",
       "  <tbody>\n",
       "    <tr>\n",
       "      <th>2022-04-08 09:15:00+05:30</th>\n",
       "      <td>2022-04-08 09:16:00+05:30</td>\n",
       "      <td>17</td>\n",
       "    </tr>\n",
       "    <tr>\n",
       "      <th>2022-04-08 09:16:00+05:30</th>\n",
       "      <td>2022-04-08 09:17:00+05:30</td>\n",
       "      <td>18</td>\n",
       "    </tr>\n",
       "    <tr>\n",
       "      <th>2022-04-08 09:17:00+05:30</th>\n",
       "      <td>2022-04-08 09:18:00+05:30</td>\n",
       "      <td>24</td>\n",
       "    </tr>\n",
       "    <tr>\n",
       "      <th>2022-04-08 09:18:00+05:30</th>\n",
       "      <td>2022-04-08 09:19:00+05:30</td>\n",
       "      <td>28</td>\n",
       "    </tr>\n",
       "    <tr>\n",
       "      <th>2022-04-08 09:19:00+05:30</th>\n",
       "      <td>2022-04-08 09:20:00+05:30</td>\n",
       "      <td>36</td>\n",
       "    </tr>\n",
       "    <tr>\n",
       "      <th>...</th>\n",
       "      <td>...</td>\n",
       "      <td>...</td>\n",
       "    </tr>\n",
       "    <tr>\n",
       "      <th>2022-04-09 15:25:00+05:30</th>\n",
       "      <td>2022-04-09 15:26:00+05:30</td>\n",
       "      <td>17</td>\n",
       "    </tr>\n",
       "    <tr>\n",
       "      <th>2022-04-09 15:26:00+05:30</th>\n",
       "      <td>2022-04-09 15:27:00+05:30</td>\n",
       "      <td>17</td>\n",
       "    </tr>\n",
       "    <tr>\n",
       "      <th>2022-04-09 15:27:00+05:30</th>\n",
       "      <td>2022-04-09 15:28:00+05:30</td>\n",
       "      <td>23</td>\n",
       "    </tr>\n",
       "    <tr>\n",
       "      <th>2022-04-09 15:28:00+05:30</th>\n",
       "      <td>2022-04-09 15:29:00+05:30</td>\n",
       "      <td>17</td>\n",
       "    </tr>\n",
       "    <tr>\n",
       "      <th>2022-04-09 15:29:00+05:30</th>\n",
       "      <td>2022-04-09 15:30:00+05:30</td>\n",
       "      <td>17</td>\n",
       "    </tr>\n",
       "  </tbody>\n",
       "</table>\n",
       "<p>1815 rows × 2 columns</p>\n",
       "</div>"
      ],
      "text/plain": [
       "                                                End  Tweet Count\n",
       "Start                                                           \n",
       "2022-04-08 09:15:00+05:30 2022-04-08 09:16:00+05:30           17\n",
       "2022-04-08 09:16:00+05:30 2022-04-08 09:17:00+05:30           18\n",
       "2022-04-08 09:17:00+05:30 2022-04-08 09:18:00+05:30           24\n",
       "2022-04-08 09:18:00+05:30 2022-04-08 09:19:00+05:30           28\n",
       "2022-04-08 09:19:00+05:30 2022-04-08 09:20:00+05:30           36\n",
       "...                                             ...          ...\n",
       "2022-04-09 15:25:00+05:30 2022-04-09 15:26:00+05:30           17\n",
       "2022-04-09 15:26:00+05:30 2022-04-09 15:27:00+05:30           17\n",
       "2022-04-09 15:27:00+05:30 2022-04-09 15:28:00+05:30           23\n",
       "2022-04-09 15:28:00+05:30 2022-04-09 15:29:00+05:30           17\n",
       "2022-04-09 15:29:00+05:30 2022-04-09 15:30:00+05:30           17\n",
       "\n",
       "[1815 rows x 2 columns]"
      ]
     },
     "execution_count": 7,
     "metadata": {},
     "output_type": "execute_result"
    }
   ],
   "source": [
    "# Steel being a generic word, maybe we can use a geographical param in retrieving India specific data\n",
    "sail = tweetCount(['SAIL', 'steel', 'PSU'])\n",
    "sail"
   ]
  },
  {
   "cell_type": "code",
   "execution_count": 8,
   "metadata": {},
   "outputs": [
    {
     "data": {
      "text/html": [
       "<div>\n",
       "<style scoped>\n",
       "    .dataframe tbody tr th:only-of-type {\n",
       "        vertical-align: middle;\n",
       "    }\n",
       "\n",
       "    .dataframe tbody tr th {\n",
       "        vertical-align: top;\n",
       "    }\n",
       "\n",
       "    .dataframe thead th {\n",
       "        text-align: right;\n",
       "    }\n",
       "</style>\n",
       "<table border=\"1\" class=\"dataframe\">\n",
       "  <thead>\n",
       "    <tr style=\"text-align: right;\">\n",
       "      <th></th>\n",
       "      <th>Reliance Buzz</th>\n",
       "      <th>HDFC Buzz</th>\n",
       "      <th>SAIL Buzz</th>\n",
       "    </tr>\n",
       "    <tr>\n",
       "      <th>Start</th>\n",
       "      <th></th>\n",
       "      <th></th>\n",
       "      <th></th>\n",
       "    </tr>\n",
       "  </thead>\n",
       "  <tbody>\n",
       "    <tr>\n",
       "      <th>2022-04-08 09:15:00+05:30</th>\n",
       "      <td>0.072289</td>\n",
       "      <td>0.132530</td>\n",
       "      <td>0.204819</td>\n",
       "    </tr>\n",
       "    <tr>\n",
       "      <th>2022-04-08 09:16:00+05:30</th>\n",
       "      <td>0.072289</td>\n",
       "      <td>0.132530</td>\n",
       "      <td>0.216867</td>\n",
       "    </tr>\n",
       "    <tr>\n",
       "      <th>2022-04-08 09:17:00+05:30</th>\n",
       "      <td>0.084337</td>\n",
       "      <td>0.072289</td>\n",
       "      <td>0.289157</td>\n",
       "    </tr>\n",
       "    <tr>\n",
       "      <th>2022-04-08 09:18:00+05:30</th>\n",
       "      <td>0.084337</td>\n",
       "      <td>0.096386</td>\n",
       "      <td>0.337349</td>\n",
       "    </tr>\n",
       "    <tr>\n",
       "      <th>2022-04-08 09:19:00+05:30</th>\n",
       "      <td>0.108434</td>\n",
       "      <td>0.072289</td>\n",
       "      <td>0.433735</td>\n",
       "    </tr>\n",
       "    <tr>\n",
       "      <th>...</th>\n",
       "      <td>...</td>\n",
       "      <td>...</td>\n",
       "      <td>...</td>\n",
       "    </tr>\n",
       "    <tr>\n",
       "      <th>2022-04-09 15:25:00+05:30</th>\n",
       "      <td>0.072289</td>\n",
       "      <td>0.048193</td>\n",
       "      <td>0.204819</td>\n",
       "    </tr>\n",
       "    <tr>\n",
       "      <th>2022-04-09 15:26:00+05:30</th>\n",
       "      <td>0.048193</td>\n",
       "      <td>0.024096</td>\n",
       "      <td>0.204819</td>\n",
       "    </tr>\n",
       "    <tr>\n",
       "      <th>2022-04-09 15:27:00+05:30</th>\n",
       "      <td>0.120482</td>\n",
       "      <td>0.072289</td>\n",
       "      <td>0.277108</td>\n",
       "    </tr>\n",
       "    <tr>\n",
       "      <th>2022-04-09 15:28:00+05:30</th>\n",
       "      <td>0.036145</td>\n",
       "      <td>0.000000</td>\n",
       "      <td>0.204819</td>\n",
       "    </tr>\n",
       "    <tr>\n",
       "      <th>2022-04-09 15:29:00+05:30</th>\n",
       "      <td>0.000000</td>\n",
       "      <td>0.024096</td>\n",
       "      <td>0.204819</td>\n",
       "    </tr>\n",
       "  </tbody>\n",
       "</table>\n",
       "<p>1815 rows × 3 columns</p>\n",
       "</div>"
      ],
      "text/plain": [
       "                           Reliance Buzz  HDFC Buzz  SAIL Buzz\n",
       "Start                                                         \n",
       "2022-04-08 09:15:00+05:30       0.072289   0.132530   0.204819\n",
       "2022-04-08 09:16:00+05:30       0.072289   0.132530   0.216867\n",
       "2022-04-08 09:17:00+05:30       0.084337   0.072289   0.289157\n",
       "2022-04-08 09:18:00+05:30       0.084337   0.096386   0.337349\n",
       "2022-04-08 09:19:00+05:30       0.108434   0.072289   0.433735\n",
       "...                                  ...        ...        ...\n",
       "2022-04-09 15:25:00+05:30       0.072289   0.048193   0.204819\n",
       "2022-04-09 15:26:00+05:30       0.048193   0.024096   0.204819\n",
       "2022-04-09 15:27:00+05:30       0.120482   0.072289   0.277108\n",
       "2022-04-09 15:28:00+05:30       0.036145   0.000000   0.204819\n",
       "2022-04-09 15:29:00+05:30       0.000000   0.024096   0.204819\n",
       "\n",
       "[1815 rows x 3 columns]"
      ]
     },
     "execution_count": 8,
     "metadata": {},
     "output_type": "execute_result"
    }
   ],
   "source": [
    "# Overall Buzz in the market compared for several stocks\n",
    "score = pd.concat([reliance['Tweet Count'], hdfc['Tweet Count'], sail['Tweet Count']], axis = 1)\n",
    "score.columns = ['Reliance TC', 'HDFC TC', 'SAIL TC']\n",
    "score['Reliance Buzz'] = (score['Reliance TC'] - score.min().min()) / (score.max().max() - score.min().min())\n",
    "score['HDFC Buzz'] = (score['HDFC TC'] - score.min().min()) / (score.max().max() - score.min().min())\n",
    "score['SAIL Buzz'] = (score['SAIL TC'] - score.min().min()) / (score.max().max() - score.min().min())\n",
    "score[['Reliance Buzz', 'HDFC Buzz', 'SAIL Buzz']]"
   ]
  },
  {
   "cell_type": "code",
   "execution_count": 9,
   "metadata": {
    "scrolled": true
   },
   "outputs": [
    {
     "name": "stdout",
     "output_type": "stream",
     "text": [
      "[*********************100%***********************]  1 of 1 completed\n"
     ]
    },
    {
     "data": {
      "text/plain": [
       "[<matplotlib.lines.Line2D at 0x7fc2a13fea90>]"
      ]
     },
     "execution_count": 9,
     "metadata": {},
     "output_type": "execute_result"
    },
    {
     "data": {
      "image/png": "[encoded data removed]",
      "text/plain": [
       "<Figure size 432x288 with 2 Axes>"
      ]
     },
     "metadata": {
      "needs_background": "light"
     },
     "output_type": "display_data"
    }
   ],
   "source": [
    "# Comparing ticker data against Buzz for 1 min data\n",
    "tick_data = yf.download('RELIANCE.NS', start=\"2022-04-08\", end=\"2022-04-09\", interval = '1m')\n",
    "x = tick_data.index[:-1]\n",
    "y = tick_data['Close'][:-1]\n",
    "plt.subplot(2,1,1)\n",
    "plt.plot(x,y)\n",
    "x = tick_data.index[:-1]\n",
    "z = score[score.index < '2022-04-08 15:30:00+05:30']['Reliance Buzz']\n",
    "plt.subplot(2,1,2)\n",
    "plt.plot(x,z)"
   ]
  },
  {
   "cell_type": "code",
   "execution_count": 10,
   "metadata": {},
   "outputs": [],
   "source": [
    "# Correlation over 1 min data\n",
    "corr_check = pd.DataFrame()\n",
    "corr_check['Volume'] = tick_data['Volume'][:-1]\n",
    "corr_check['Buzz'] = score[score.index < '2022-04-08 15:30:00+05:30']['Reliance Buzz']"
   ]
  },
  {
   "cell_type": "code",
   "execution_count": 11,
   "metadata": {},
   "outputs": [
    {
     "data": {
      "text/plain": [
       "[<matplotlib.lines.Line2D at 0x7fc2a14f8d00>]"
      ]
     },
     "execution_count": 11,
     "metadata": {},
     "output_type": "execute_result"
    },
    {
     "data": {
      "image/png": "[encoded data removed]",
      "text/plain": [
       "<Figure size 432x288 with 2 Axes>"
      ]
     },
     "metadata": {
      "needs_background": "light"
     },
     "output_type": "display_data"
    }
   ],
   "source": [
    "x = tick_data.index[:-1]\n",
    "y = corr_check['Volume']\n",
    "plt.subplot(2,1,1)\n",
    "plt.plot(x,y)\n",
    "x = tick_data.index[:-1]\n",
    "z = corr_check['Buzz']\n",
    "plt.subplot(2,1,2)\n",
    "plt.plot(x,z)"
   ]
  },
  {
   "cell_type": "code",
   "execution_count": 12,
   "metadata": {},
   "outputs": [
    {
     "data": {
      "text/html": [
       "<div>\n",
       "<style scoped>\n",
       "    .dataframe tbody tr th:only-of-type {\n",
       "        vertical-align: middle;\n",
       "    }\n",
       "\n",
       "    .dataframe tbody tr th {\n",
       "        vertical-align: top;\n",
       "    }\n",
       "\n",
       "    .dataframe thead th {\n",
       "        text-align: right;\n",
       "    }\n",
       "</style>\n",
       "<table border=\"1\" class=\"dataframe\">\n",
       "  <thead>\n",
       "    <tr style=\"text-align: right;\">\n",
       "      <th></th>\n",
       "      <th>Volume</th>\n",
       "      <th>Buzz</th>\n",
       "    </tr>\n",
       "  </thead>\n",
       "  <tbody>\n",
       "    <tr>\n",
       "      <th>Volume</th>\n",
       "      <td>1.000000</td>\n",
       "      <td>-0.085203</td>\n",
       "    </tr>\n",
       "    <tr>\n",
       "      <th>Buzz</th>\n",
       "      <td>-0.085203</td>\n",
       "      <td>1.000000</td>\n",
       "    </tr>\n",
       "  </tbody>\n",
       "</table>\n",
       "</div>"
      ],
      "text/plain": [
       "          Volume      Buzz\n",
       "Volume  1.000000 -0.085203\n",
       "Buzz   -0.085203  1.000000"
      ]
     },
     "execution_count": 12,
     "metadata": {},
     "output_type": "execute_result"
    }
   ],
   "source": [
    "corr_check.corr(method = 'pearson')"
   ]
  },
  {
   "cell_type": "code",
   "execution_count": 92,
   "metadata": {},
   "outputs": [
    {
     "name": "stdout",
     "output_type": "stream",
     "text": [
      "[*********************100%***********************]  1 of 1 completed\n"
     ]
    }
   ],
   "source": [
    "day_data = yf.download('RELIANCE.NS', start=\"2022-04-02\", end=\"2022-04-09\", interval = '1d')\n",
    "tweets = client.get_recent_tweets_count(query = 'Reliance', \n",
    "                                        granularity = 'day', \n",
    "                                        start_time = '2022-04-05T03:45:00Z', \n",
    "                                        end_time = '2022-04-09T10:00:00Z')\n",
    "day_tweet = pd.DataFrame(tweets.data)\n",
    "day_tweet.columns = ['End', 'Start', 'Tweet Count']\n",
    "day_tweet['Start'] = pd.to_datetime(day_tweet['Start']).dt.tz_convert('Asia/Kolkata')\n",
    "day_tweet['Start'] = day_tweet['Start'].dt.date\n",
    "day_tweet['End'] = pd.to_datetime(day_tweet['End']).dt.tz_convert('Asia/Kolkata')\n",
    "day_tweet.set_index('Start', inplace = True)"
   ]
  },
  {
   "cell_type": "code",
   "execution_count": 93,
   "metadata": {},
   "outputs": [
    {
     "data": {
      "text/html": [
       "<div>\n",
       "<style scoped>\n",
       "    .dataframe tbody tr th:only-of-type {\n",
       "        vertical-align: middle;\n",
       "    }\n",
       "\n",
       "    .dataframe tbody tr th {\n",
       "        vertical-align: top;\n",
       "    }\n",
       "\n",
       "    .dataframe thead th {\n",
       "        text-align: right;\n",
       "    }\n",
       "</style>\n",
       "<table border=\"1\" class=\"dataframe\">\n",
       "  <thead>\n",
       "    <tr style=\"text-align: right;\">\n",
       "      <th></th>\n",
       "      <th>Open</th>\n",
       "      <th>High</th>\n",
       "      <th>Low</th>\n",
       "      <th>Close</th>\n",
       "      <th>Adj Close</th>\n",
       "      <th>Volume</th>\n",
       "    </tr>\n",
       "    <tr>\n",
       "      <th>Date</th>\n",
       "      <th></th>\n",
       "      <th></th>\n",
       "      <th></th>\n",
       "      <th></th>\n",
       "      <th></th>\n",
       "      <th></th>\n",
       "    </tr>\n",
       "  </thead>\n",
       "  <tbody>\n",
       "    <tr>\n",
       "      <th>2022-04-04</th>\n",
       "      <td>2655.449951</td>\n",
       "      <td>2675.000000</td>\n",
       "      <td>2641.649902</td>\n",
       "      <td>2663.699951</td>\n",
       "      <td>2663.699951</td>\n",
       "      <td>3659307</td>\n",
       "    </tr>\n",
       "    <tr>\n",
       "      <th>2022-04-05</th>\n",
       "      <td>2651.100098</td>\n",
       "      <td>2669.899902</td>\n",
       "      <td>2620.699951</td>\n",
       "      <td>2626.050049</td>\n",
       "      <td>2626.050049</td>\n",
       "      <td>6068663</td>\n",
       "    </tr>\n",
       "    <tr>\n",
       "      <th>2022-04-06</th>\n",
       "      <td>2587.100098</td>\n",
       "      <td>2634.500000</td>\n",
       "      <td>2587.100098</td>\n",
       "      <td>2619.050049</td>\n",
       "      <td>2619.050049</td>\n",
       "      <td>5656703</td>\n",
       "    </tr>\n",
       "    <tr>\n",
       "      <th>2022-04-07</th>\n",
       "      <td>2595.100098</td>\n",
       "      <td>2606.000000</td>\n",
       "      <td>2567.000000</td>\n",
       "      <td>2572.850098</td>\n",
       "      <td>2572.850098</td>\n",
       "      <td>7151632</td>\n",
       "    </tr>\n",
       "    <tr>\n",
       "      <th>2022-04-08</th>\n",
       "      <td>2560.000000</td>\n",
       "      <td>2625.000000</td>\n",
       "      <td>2560.000000</td>\n",
       "      <td>2615.649902</td>\n",
       "      <td>2615.649902</td>\n",
       "      <td>6992874</td>\n",
       "    </tr>\n",
       "  </tbody>\n",
       "</table>\n",
       "</div>"
      ],
      "text/plain": [
       "                   Open         High          Low        Close    Adj Close  \\\n",
       "Date                                                                          \n",
       "2022-04-04  2655.449951  2675.000000  2641.649902  2663.699951  2663.699951   \n",
       "2022-04-05  2651.100098  2669.899902  2620.699951  2626.050049  2626.050049   \n",
       "2022-04-06  2587.100098  2634.500000  2587.100098  2619.050049  2619.050049   \n",
       "2022-04-07  2595.100098  2606.000000  2567.000000  2572.850098  2572.850098   \n",
       "2022-04-08  2560.000000  2625.000000  2560.000000  2615.649902  2615.649902   \n",
       "\n",
       "             Volume  \n",
       "Date                 \n",
       "2022-04-04  3659307  \n",
       "2022-04-05  6068663  \n",
       "2022-04-06  5656703  \n",
       "2022-04-07  7151632  \n",
       "2022-04-08  6992874  "
      ]
     },
     "execution_count": 93,
     "metadata": {},
     "output_type": "execute_result"
    }
   ],
   "source": [
    "day_data"
   ]
  },
  {
   "cell_type": "code",
   "execution_count": 94,
   "metadata": {},
   "outputs": [
    {
     "data": {
      "text/html": [
       "<div>\n",
       "<style scoped>\n",
       "    .dataframe tbody tr th:only-of-type {\n",
       "        vertical-align: middle;\n",
       "    }\n",
       "\n",
       "    .dataframe tbody tr th {\n",
       "        vertical-align: top;\n",
       "    }\n",
       "\n",
       "    .dataframe thead th {\n",
       "        text-align: right;\n",
       "    }\n",
       "</style>\n",
       "<table border=\"1\" class=\"dataframe\">\n",
       "  <thead>\n",
       "    <tr style=\"text-align: right;\">\n",
       "      <th></th>\n",
       "      <th>End</th>\n",
       "      <th>Tweet Count</th>\n",
       "    </tr>\n",
       "    <tr>\n",
       "      <th>Start</th>\n",
       "      <th></th>\n",
       "      <th></th>\n",
       "    </tr>\n",
       "  </thead>\n",
       "  <tbody>\n",
       "    <tr>\n",
       "      <th>2022-04-05</th>\n",
       "      <td>2022-04-06 05:30:00+05:30</td>\n",
       "      <td>4736</td>\n",
       "    </tr>\n",
       "    <tr>\n",
       "      <th>2022-04-06</th>\n",
       "      <td>2022-04-07 05:30:00+05:30</td>\n",
       "      <td>5740</td>\n",
       "    </tr>\n",
       "    <tr>\n",
       "      <th>2022-04-07</th>\n",
       "      <td>2022-04-08 05:30:00+05:30</td>\n",
       "      <td>6503</td>\n",
       "    </tr>\n",
       "    <tr>\n",
       "      <th>2022-04-08</th>\n",
       "      <td>2022-04-09 05:30:00+05:30</td>\n",
       "      <td>5455</td>\n",
       "    </tr>\n",
       "    <tr>\n",
       "      <th>2022-04-09</th>\n",
       "      <td>2022-04-09 15:30:00+05:30</td>\n",
       "      <td>1165</td>\n",
       "    </tr>\n",
       "  </tbody>\n",
       "</table>\n",
       "</div>"
      ],
      "text/plain": [
       "                                 End  Tweet Count\n",
       "Start                                            \n",
       "2022-04-05 2022-04-06 05:30:00+05:30         4736\n",
       "2022-04-06 2022-04-07 05:30:00+05:30         5740\n",
       "2022-04-07 2022-04-08 05:30:00+05:30         6503\n",
       "2022-04-08 2022-04-09 05:30:00+05:30         5455\n",
       "2022-04-09 2022-04-09 15:30:00+05:30         1165"
      ]
     },
     "execution_count": 94,
     "metadata": {},
     "output_type": "execute_result"
    }
   ],
   "source": [
    "day_tweet"
   ]
  },
  {
   "cell_type": "code",
   "execution_count": 95,
   "metadata": {},
   "outputs": [
    {
     "data": {
      "text/plain": [
       "[<matplotlib.lines.Line2D at 0x7fc29dda0550>]"
      ]
     },
     "execution_count": 95,
     "metadata": {},
     "output_type": "execute_result"
    },
    {
     "data": {
      "image/png": "[encoded data removed]",
      "text/plain": [
       "<Figure size 432x288 with 2 Axes>"
      ]
     },
     "metadata": {
      "needs_background": "light"
     },
     "output_type": "display_data"
    }
   ],
   "source": [
    "# 1 day graphs. Data limited since only 1 week recent data available for free API users.\n",
    "x = day_tweet.index[:-1]\n",
    "y = day_tweet['Tweet Count'][:-1]\n",
    "plt.subplot(2,1,1)\n",
    "plt.plot(x,y)\n",
    "x = day_data.index[1:]\n",
    "z = day_data['Volume'][1:]\n",
    "plt.subplot(2,1,2)\n",
    "plt.plot(x,z)"
   ]
  },
  {
   "cell_type": "code",
   "execution_count": 98,
   "metadata": {},
   "outputs": [
    {
     "data": {
      "text/html": [
       "<div>\n",
       "<style scoped>\n",
       "    .dataframe tbody tr th:only-of-type {\n",
       "        vertical-align: middle;\n",
       "    }\n",
       "\n",
       "    .dataframe tbody tr th {\n",
       "        vertical-align: top;\n",
       "    }\n",
       "\n",
       "    .dataframe thead th {\n",
       "        text-align: right;\n",
       "    }\n",
       "</style>\n",
       "<table border=\"1\" class=\"dataframe\">\n",
       "  <thead>\n",
       "    <tr style=\"text-align: right;\">\n",
       "      <th></th>\n",
       "      <th>Count</th>\n",
       "      <th>Volume</th>\n",
       "    </tr>\n",
       "  </thead>\n",
       "  <tbody>\n",
       "    <tr>\n",
       "      <th>Count</th>\n",
       "      <td>1.000000</td>\n",
       "      <td>0.488652</td>\n",
       "    </tr>\n",
       "    <tr>\n",
       "      <th>Volume</th>\n",
       "      <td>0.488652</td>\n",
       "      <td>1.000000</td>\n",
       "    </tr>\n",
       "  </tbody>\n",
       "</table>\n",
       "</div>"
      ],
      "text/plain": [
       "           Count    Volume\n",
       "Count   1.000000  0.488652\n",
       "Volume  0.488652  1.000000"
      ]
     },
     "execution_count": 98,
     "metadata": {},
     "output_type": "execute_result"
    }
   ],
   "source": [
    "# Correlation over 1 day data\n",
    "day_corr = pd.DataFrame()\n",
    "day_corr['Count'] = day_tweet['Tweet Count'][:-1]\n",
    "day_corr['Volume'] = day_data['Volume'][1:]\n",
    "day_corr.corr(method = 'pearson')"
   ]
  },
  {
   "cell_type": "code",
   "execution_count": null,
   "metadata": {},
   "outputs": [],
   "source": []
  },
  {
   "cell_type": "code",
   "execution_count": null,
   "metadata": {},
   "outputs": [],
   "source": []
  },
  {
   "cell_type": "code",
   "execution_count": null,
   "metadata": {},
   "outputs": [],
   "source": []
  }
 ],
 "metadata": {
  "kernelspec": {
   "display_name": "Python 3",
   "language": "python",
   "name": "python3"
  },
  "language_info": {
   "codemirror_mode": {
    "name": "ipython",
    "version": 3
   },
   "file_extension": ".py",
   "mimetype": "text/x-python",
   "name": "python",
   "nbconvert_exporter": "python",
   "pygments_lexer": "ipython3",
   "version": "3.8.5"
  }
 },
 "nbformat": 4,
 "nbformat_minor": 4
}
